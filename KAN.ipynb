{
 "cells": [
  {
   "cell_type": "code",
   "execution_count": null,
   "metadata": {},
   "outputs": [],
   "source": [
    "import torch as torch\n",
    "import numpy as np\n",
    "import matplotlib.pyplot as plt\n",
    "import pandas as pd\n",
    "from DataRead import OurData\n",
    "import traceback\n",
    "import struct\n",
    "\n",
    "from kan import KAN, create_dataset\n",
    "\n",
    "torch.set_default_dtype(torch.float32)\n",
    "device = torch.device('cuda' if torch.cuda.is_available() else 'cpu')\n",
    "input_size = 28*28 # from 28*28"
   ]
  },
  {
   "cell_type": "code",
   "execution_count": null,
   "metadata": {},
   "outputs": [],
   "source": [
    "def read_idx(filename):\n",
    "    with open(filename, 'rb') as f:\n",
    "        zero, dtype, dims = struct.unpack('>HBB', f.read(4))\n",
    "        shape = tuple(struct.unpack('>I', f.read(4))[0] for _ in range(dims))\n",
    "        return torch.tensor(np.frombuffer(f.read(), dtype=np.uint8).reshape(shape)).to(torch.float32)\n",
    "\n",
    "class OurData:\n",
    "    def __init__(self):\n",
    "        self.ourdataset = {}\n",
    "        train_images = read_idx('/workspaces/KAN-Network/Dataset/train-images-idx3-ubyte/train-images-idx3-ubyte') #contains the training data, each data is the binary representation of an image as per the MNIST dataset\n",
    "        self.ourdataset['train_input'] = (train_images).view(-1, 28*28) #reshapes the data into a 2D array, each row is an image\n",
    "        test_images = read_idx('/workspaces/KAN-Network/Dataset/t10k-images-idx3-ubyte/t10k-images-idx3-ubyte') #contains the testing data, same format as train_input\n",
    "        self.ourdataset['test_input'] = (test_images).view(-1, 28*28) #reshapes the data into a 2D array, each row is an image\n",
    "        self.ourdataset['train_label'] = read_idx('/workspaces/KAN-Network/Dataset/train-labels-idx1-ubyte/train-labels-idx1-ubyte').unsqueeze(1) #contains the labels for the training data\n",
    "        self.ourdataset['test_label'] = read_idx('/workspaces/KAN-Network/Dataset/t10k-labels-idx1-ubyte/t10k-labels-idx1-ubyte').unsqueeze(1) #contains the labels for the testing data\n",
    "        #print(\"These are our training inputs and labels\")\n",
    "    def __getitem__(self):\n",
    "        return self.ourdataset\n",
    "    def getsliced(self, key, slice = 1):\n",
    "        fraction = int(784/slice)\n",
    "        arr = torch.tensor([])\n",
    "        for i in range(slice):\n",
    "            arr = torch.cat((arr, self.ourdataset[key][:, i*fraction:(i+1)*fraction].sum(dim=1, keepdim=True)), dim=1)\n",
    "        return arr\n",
    "    def getitems(self, index, endindex = 10000, test = True):\n",
    "        key = 'test_input' if test else 'train_input'\n",
    "        key2 = 'test_label' if test else 'train_label'\n",
    "        return [self.ourdataset[key][index:endindex], self.ourdataset[key2][index:endindex]]"
   ]
  },
  {
   "cell_type": "code",
   "execution_count": null,
   "metadata": {},
   "outputs": [],
   "source": [
    "'''\n",
    "initialize model\n",
    "- refer to MultKAN.py for more information\n",
    "    width: number of neurons in each layer, in order from input to output\n",
    "    k: order of the spline\n",
    "    seed: random seed\n",
    "    grid: grid intervals/grid points (affects the accuracy of the splines/learnable functions)\n",
    "'''\n",
    "model = KAN(width=[784, 10, 1], grid=5, k=3, seed=0, device=device)\n",
    "model2 = KAN(width=[28, 10, 1], grid=5, k=3, seed=0, device=device, ckpt_path='./model2')\n",
    "model3 = KAN(width=[3, 5, 1], grid=5, k=3, seed=0, device=device, ckpt_path='./model3')"
   ]
  },
  {
   "cell_type": "code",
   "execution_count": null,
   "metadata": {},
   "outputs": [],
   "source": [
    "#Our dataset\n",
    "data = OurData()\n",
    "ourdata = {}\n",
    "ourdata2 = {}\n",
    "ourdata3 = {}\n",
    "for key in data.ourdataset:\n",
    "    #total train datapoints=60000, test datapoints=10000. approx time:\n",
    "    ourdata[key] = data.ourdataset[key][:100] #only get the first 100 data points for now\n",
    "    ourdata2[key] = data.getsliced(key, 28)[:1000] #each element is a sum of a row of the 2d array\n",
    "    ourdata3[key] = data.getsliced(key, 3)[:2000] #each element is a sum of a third of the entire 2d array"
   ]
  },
  {
   "cell_type": "code",
   "execution_count": null,
   "metadata": {},
   "outputs": [],
   "source": [
    "model(ourdata['train_input']) #forward pass of the model\n",
    "model2(ourdata2['train_input']) \n",
    "model3(ourdata3['train_input']) \n",
    "#print(\"model pass complete\")\n",
    "#model.plot() #plots the model, avoid doing this since it will plot functions for all the neurons(and we have a lot since we are dealing with images)\n",
    "\n",
    "modelresults = []\n",
    "modelresults.append(model.fit(ourdata, opt=\"LBFGS\", steps=50, lamb=0.001)) #values from the basic example in the documentation\n",
    "modelresults.append(model2.fit(ourdata2, opt=\"LBFGS\", steps=50, lamb=0.001))\n",
    "modelresults.append(model3.fit(ourdata3, opt=\"LBFGS\", steps=50, lamb=0.001))"
   ]
  },
  {
   "cell_type": "code",
   "execution_count": null,
   "metadata": {},
   "outputs": [],
   "source": [
    "plt.plot(range(1, len(modelresults[0]['train_loss']) + 1), modelresults[0]['train_loss'])\n",
    "plt.title('Model1 Train Loss')\n",
    "plt.show()\n",
    "plt.plot(range(1, len(modelresults[0]['test_loss']) + 1), modelresults[0]['test_loss'])\n",
    "plt.title('Model1 Test Loss')\n",
    "plt.show()"
   ]
  },
  {
   "cell_type": "code",
   "execution_count": null,
   "metadata": {},
   "outputs": [],
   "source": [
    "plt.plot(range(1, len(modelresults[1]['train_loss']) + 1), modelresults[1]['train_loss'])\n",
    "plt.title('Model2 Train Loss')\n",
    "plt.show()\n",
    "plt.plot(range(1, len(modelresults[1]['test_loss']) + 1), modelresults[1]['test_loss'])\n",
    "plt.title('Model2 Test Loss')\n",
    "plt.show()"
   ]
  },
  {
   "cell_type": "code",
   "execution_count": null,
   "metadata": {},
   "outputs": [],
   "source": [
    "plt.plot(range(1, len(modelresults[2]['train_loss']) + 1), modelresults[2]['train_loss'])\n",
    "plt.title('Model3 Train Loss')\n",
    "plt.show()\n",
    "plt.plot(range(1, len(modelresults[2]['test_loss']) + 1), modelresults[2]['test_loss'])\n",
    "plt.title('Model3 Test Loss')\n",
    "plt.show()"
   ]
  },
  {
   "cell_type": "code",
   "execution_count": null,
   "metadata": {},
   "outputs": [],
   "source": [
    "# Assuming model.evaluate returns a dictionary with 'predictions' and 'targets'\n",
    "eval1 = model.evaluate(ourdata)\n",
    "eval2 = model2.evaluate(ourdata2)\n",
    "eval3 = model3.evaluate(ourdata3)\n",
    "evaluation_results = [eval1, eval2, eval3]\n",
    "test_losses = [[result['test_loss'] for result in evaluation_results]]\n",
    "\n",
    "plt.scatter([i for i in range(1, 4)], test_losses)\n",
    "plt.xlabel('Model Number')\n",
    "plt.ylabel('Loss')\n",
    "plt.title('Scatter Plot of Model Losses')\n",
    "plt.show()"
   ]
  },
  {
   "cell_type": "code",
   "execution_count": null,
   "metadata": {},
   "outputs": [],
   "source": [
    "testingdata = data.getitems(9950, 10000) \n",
    "results = model.forward(testingdata[0])\n",
    "results2 = model2.forward(testingdata[0])\n",
    "results3 = model3.forward(testingdata[0])"
   ]
  },
  {
   "cell_type": "code",
   "execution_count": null,
   "metadata": {},
   "outputs": [],
   "source": [
    "#plt.plot(range(len(results)), results.detach().numpy(), label='Model1 Predictions')\n",
    "plt.plot(range(len(results2)), results2.detach().numpy(), label='Model2 Predictions')\n",
    "plt.plot(range(len(results3)), results3.detach().numpy(), label='Model3 Predictions')\n",
    "plt.plot(range(len(testingdata[1])), testingdata[1].detach().numpy(), label='Actual')\n",
    "plt.xlabel('Input Number')\n",
    "plt.ylabel('Output')\n",
    "plt.title('Model Predictions vs Actual')\n",
    "plt.legend()\n",
    "plt.show()"
   ]
  }
 ],
 "metadata": {
  "kernelspec": {
   "display_name": "Python 3",
   "language": "python",
   "name": "python3"
  },
  "language_info": {
   "codemirror_mode": {
    "name": "ipython",
    "version": 3
   },
   "file_extension": ".py",
   "mimetype": "text/x-python",
   "name": "python",
   "nbconvert_exporter": "python",
   "pygments_lexer": "ipython3",
   "version": "3.12.1"
  }
 },
 "nbformat": 4,
 "nbformat_minor": 2
}
