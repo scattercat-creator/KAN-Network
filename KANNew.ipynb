{
 "cells": [
  {
   "cell_type": "code",
   "execution_count": 1,
   "metadata": {},
   "outputs": [],
   "source": [
    "import torch as torch\n",
    "import numpy as np\n",
    "import matplotlib.pyplot as plt\n",
    "import pandas as pd\n",
    "from DataRead import OurData\n",
    "import traceback\n",
    "import struct\n",
    "import matplotlib.colors as mcolors\n",
    "\n",
    "from Visualization import DataVisual\n",
    "from DataRead import OurData, compress\n",
    "from kan import KAN\n",
    "\n",
    "torch.set_default_dtype(torch.float32)\n",
    "device = torch.device('cuda' if torch.cuda.is_available() else 'cpu')\n",
    "input_size = 28*28 # from 28*28"
   ]
  },
  {
   "cell_type": "code",
   "execution_count": 2,
   "metadata": {},
   "outputs": [
    {
     "name": "stdout",
     "output_type": "stream",
     "text": [
      "torch.Size([25, 10]) torch.Size([600, 10]) torch.Size([2000, 10])\n",
      "torch.Size([25, 784]) torch.Size([600, 112]) torch.Size([2000, 28])\n"
     ]
    }
   ],
   "source": [
    "#total train datapoints=60000, test datapoints=10000. approx time:1min/100 points model1, 30s/1000 points model2, 1min/2500 points model3\n",
    "data = OurData() #Our dataset\n",
    "ourdata = data.filldata(25, 784)\n",
    "ourdata2 = data.filldata(600, 112)\n",
    "ourdata3 = data.filldata(2000, 28)\n",
    "print(ourdata['train_label'].size(), ourdata2['train_label'].size(), ourdata3['train_label'].size())\n",
    "print(ourdata['train_input'].size(), ourdata2['train_input'].size(), ourdata3['train_input'].size())"
   ]
  },
  {
   "cell_type": "code",
   "execution_count": 3,
   "metadata": {},
   "outputs": [
    {
     "name": "stdout",
     "output_type": "stream",
     "text": [
      "checkpoint directory created: ./model\n",
      "saving model version 0.0\n",
      "checkpoint directory created: ./model2\n",
      "saving model version 0.0\n",
      "checkpoint directory created: ./model3\n",
      "saving model version 0.0\n"
     ]
    }
   ],
   "source": [
    "'''\n",
    "initialize model\n",
    "- refer to MultKAN.py for more information\n",
    "    width: number of neurons in each layer, in order from input to output\n",
    "    k: order of the spline\n",
    "    seed: random seed\n",
    "    grid: grid intervals/grid points (affects the accuracy of the splines/learnable functions)\n",
    "'''\n",
    "model = KAN(width=[784, 80, 10], grid=5, k=3, seed=0, device=device)\n",
    "model2 = KAN(width=[112, 40, 10], grid=5, k=3, seed=0, device=device, ckpt_path='./model2')\n",
    "model3 = KAN(width=[28, 20, 10], grid=5, k=3, seed=0, device=device, ckpt_path='./model3')"
   ]
  },
  {
   "cell_type": "code",
   "execution_count": null,
   "metadata": {},
   "outputs": [
    {
     "ename": "",
     "evalue": "",
     "output_type": "error",
     "traceback": [
      "\u001b[1;31mThe Kernel crashed while executing code in the current cell or a previous cell. \n",
      "\u001b[1;31mPlease review the code in the cell(s) to identify a possible cause of the failure. \n",
      "\u001b[1;31mClick <a href='https://aka.ms/vscodeJupyterKernelCrash'>here</a> for more info. \n",
      "\u001b[1;31mView Jupyter <a href='command:jupyter.viewOutput'>log</a> for further details."
     ]
    }
   ],
   "source": [
    "#forward pass of the models, use this to establish initial neurons\n",
    "model(ourdata['train_input']) \n",
    "model2(ourdata2['train_input']) \n",
    "model3(ourdata3['train_input']) \n",
    "#model.plot() #plots the model, avoid doing this since it will plot functions for all the neurons(and we have a lot since we are dealing with images)\n",
    "\n",
    "#steps = intervals to divide the dataset and update model, epochs = how many times the entire dataset is passed through the model\n",
    "#note: kernel crashes with too many steps/neurons/data points\n",
    "modelresults = []\n",
    "modelresults.append(model.fit(ourdata, opt=\"LBFGS\", steps=20, lamb=0.001))\n",
    "modelresults.append(model2.fit(ourdata2, opt=\"LBFGS\", steps=40, lamb=0.001))\n",
    "modelresults.append(model3.fit(ourdata3, opt=\"LBFGS\", steps=50, lamb=0.001))\n",
    "\n",
    "'''\n",
    "try:\n",
    "    \n",
    "except Exception as e:\n",
    "    print(e)\n",
    "    traceback.print_exc()'\n",
    "'''"
   ]
  },
  {
   "cell_type": "code",
   "execution_count": null,
   "metadata": {},
   "outputs": [],
   "source": [
    "plt.plot(range(1, len(modelresults[0]['train_loss']) + 1), modelresults[0]['train_loss'])\n",
    "plt.title('Model1 Train Loss')\n",
    "plt.show()\n",
    "plt.plot(range(1, len(modelresults[0]['test_loss']) + 1), modelresults[0]['test_loss'])\n",
    "plt.title('Model1 Test Loss')\n",
    "plt.show()"
   ]
  },
  {
   "cell_type": "code",
   "execution_count": null,
   "metadata": {},
   "outputs": [],
   "source": [
    "plt.plot(range(1, len(modelresults[1]['train_loss']) + 1), modelresults[1]['train_loss'])\n",
    "plt.title('Model2 Train Loss')\n",
    "plt.show()\n",
    "plt.plot(range(1, len(modelresults[1]['test_loss']) + 1), modelresults[1]['test_loss'])\n",
    "plt.title('Model2 Test Loss')\n",
    "plt.show()"
   ]
  },
  {
   "cell_type": "code",
   "execution_count": null,
   "metadata": {},
   "outputs": [],
   "source": [
    "plt.plot(range(1, len(modelresults[2]['train_loss']) + 1), modelresults[2]['train_loss'])\n",
    "plt.title('Model3 Train Loss')\n",
    "plt.show()\n",
    "plt.plot(range(1, len(modelresults[2]['test_loss']) + 1), modelresults[2]['test_loss'])\n",
    "plt.title('Model3 Test Loss')\n",
    "plt.show()"
   ]
  },
  {
   "cell_type": "code",
   "execution_count": null,
   "metadata": {},
   "outputs": [],
   "source": [
    "eval1 = model.evaluate(ourdata)\n",
    "eval2 = model2.evaluate(ourdata2)\n",
    "eval3 = model3.evaluate(ourdata3)\n",
    "evaluation_results = [eval1, eval2, eval3]\n",
    "test_losses = [[result['test_loss'] for result in evaluation_results]]\n",
    "\n",
    "plt.scatter([i for i in range(1, 4)], test_losses, label='Test Loss')\n",
    "plt.xlabel('Model Number')\n",
    "plt.ylabel('Loss')\n",
    "plt.title('Scatter Plot of Models')\n",
    "plt.show()"
   ]
  },
  {
   "cell_type": "code",
   "execution_count": null,
   "metadata": {},
   "outputs": [],
   "source": [
    "testingdata = data.getitems(9950, 10000) \n",
    "predictions = model.forward(testingdata[0])\n",
    "predictions2 = model2.forward(compress(testingdata[0], 112))\n",
    "predictions3 = model3.forward(compress(testingdata[0], 28))\n",
    "allpredictions = [predictions, predictions2, predictions3]"
   ]
  },
  {
   "cell_type": "code",
   "execution_count": null,
   "metadata": {},
   "outputs": [],
   "source": [
    "pred1 = DataVisual(testingdata[1], predictions)\n",
    "pred2 = DataVisual(testingdata[1], predictions2)\n",
    "pred3 = DataVisual(testingdata[1], predictions3)"
   ]
  },
  {
   "cell_type": "code",
   "execution_count": null,
   "metadata": {},
   "outputs": [],
   "source": [
    "pred3.displayFullTable()\n"
   ]
  },
  {
   "cell_type": "code",
   "execution_count": null,
   "metadata": {},
   "outputs": [],
   "source": []
  },
  {
   "cell_type": "code",
   "execution_count": null,
   "metadata": {},
   "outputs": [],
   "source": [
    "'''\n",
    "loaded_model = model.loadckpt(path='./model/0.1')\n",
    "loaded_model2 = model2.loadckpt(path='./model2/0.1')\n",
    "loaded_model3 = model3.loadckpt(path='./model3/0.1')'\n",
    "'''\n"
   ]
  },
  {
   "cell_type": "code",
   "execution_count": null,
   "metadata": {},
   "outputs": [],
   "source": [
    "#a different method of calculating error, convert into a classification problem\n",
    "#figure out how to save and load models\n",
    "#experiment with parameters for better accuracy - grid, k, width/length, lamb, steps, lossfn, \n",
    "#model.saveckpt(path='./model_checkpoint') #saves the model into the files"
   ]
  }
 ],
 "metadata": {
  "kernelspec": {
   "display_name": "Python 3",
   "language": "python",
   "name": "python3"
  },
  "language_info": {
   "codemirror_mode": {
    "name": "ipython",
    "version": 3
   },
   "file_extension": ".py",
   "mimetype": "text/x-python",
   "name": "python",
   "nbconvert_exporter": "python",
   "pygments_lexer": "ipython3",
   "version": "3.12.1"
  }
 },
 "nbformat": 4,
 "nbformat_minor": 2
}
